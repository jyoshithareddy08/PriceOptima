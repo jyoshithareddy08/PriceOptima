{
 "cells": [
  {
   "cell_type": "code",
   "execution_count": 1,
   "id": "699db8b4-3d74-4af9-8742-ab50cbd9e1c6",
   "metadata": {},
   "outputs": [
    {
     "ename": "FileNotFoundError",
     "evalue": "[Errno 2] No such file or directory: 'dynamic_pricing'",
     "output_type": "error",
     "traceback": [
      "\u001b[31m---------------------------------------------------------------------------\u001b[39m",
      "\u001b[31mFileNotFoundError\u001b[39m                         Traceback (most recent call last)",
      "\u001b[36mCell\u001b[39m\u001b[36m \u001b[39m\u001b[32mIn[1]\u001b[39m\u001b[32m, line 4\u001b[39m\n\u001b[32m      2\u001b[39m \u001b[38;5;28;01mimport\u001b[39;00m\u001b[38;5;250m \u001b[39m\u001b[34;01mnumpy\u001b[39;00m\u001b[38;5;250m \u001b[39m\u001b[38;5;28;01mas\u001b[39;00m\u001b[38;5;250m \u001b[39m\u001b[34;01mnp\u001b[39;00m\n\u001b[32m      3\u001b[39m \u001b[38;5;28;01mimport\u001b[39;00m\u001b[38;5;250m \u001b[39m\u001b[34;01mpandas\u001b[39;00m\u001b[38;5;250m \u001b[39m\u001b[38;5;28;01mas\u001b[39;00m\u001b[38;5;250m \u001b[39m\u001b[34;01mpd\u001b[39;00m\n\u001b[32m----> \u001b[39m\u001b[32m4\u001b[39m df=\u001b[43mpd\u001b[49m\u001b[43m.\u001b[49m\u001b[43mread_csv\u001b[49m\u001b[43m(\u001b[49m\u001b[33;43m\"\u001b[39;49m\u001b[33;43mdynamic_pricing\u001b[39;49m\u001b[33;43m\"\u001b[39;49m\u001b[43m)\u001b[49m\n",
      "\u001b[36mFile \u001b[39m\u001b[32m~\\AppData\\Local\\Packages\\PythonSoftwareFoundation.Python.3.11_qbz5n2kfra8p0\\LocalCache\\local-packages\\Python311\\site-packages\\pandas\\io\\parsers\\readers.py:1026\u001b[39m, in \u001b[36mread_csv\u001b[39m\u001b[34m(filepath_or_buffer, sep, delimiter, header, names, index_col, usecols, dtype, engine, converters, true_values, false_values, skipinitialspace, skiprows, skipfooter, nrows, na_values, keep_default_na, na_filter, verbose, skip_blank_lines, parse_dates, infer_datetime_format, keep_date_col, date_parser, date_format, dayfirst, cache_dates, iterator, chunksize, compression, thousands, decimal, lineterminator, quotechar, quoting, doublequote, escapechar, comment, encoding, encoding_errors, dialect, on_bad_lines, delim_whitespace, low_memory, memory_map, float_precision, storage_options, dtype_backend)\u001b[39m\n\u001b[32m   1013\u001b[39m kwds_defaults = _refine_defaults_read(\n\u001b[32m   1014\u001b[39m     dialect,\n\u001b[32m   1015\u001b[39m     delimiter,\n\u001b[32m   (...)\u001b[39m\u001b[32m   1022\u001b[39m     dtype_backend=dtype_backend,\n\u001b[32m   1023\u001b[39m )\n\u001b[32m   1024\u001b[39m kwds.update(kwds_defaults)\n\u001b[32m-> \u001b[39m\u001b[32m1026\u001b[39m \u001b[38;5;28;01mreturn\u001b[39;00m \u001b[43m_read\u001b[49m\u001b[43m(\u001b[49m\u001b[43mfilepath_or_buffer\u001b[49m\u001b[43m,\u001b[49m\u001b[43m \u001b[49m\u001b[43mkwds\u001b[49m\u001b[43m)\u001b[49m\n",
      "\u001b[36mFile \u001b[39m\u001b[32m~\\AppData\\Local\\Packages\\PythonSoftwareFoundation.Python.3.11_qbz5n2kfra8p0\\LocalCache\\local-packages\\Python311\\site-packages\\pandas\\io\\parsers\\readers.py:620\u001b[39m, in \u001b[36m_read\u001b[39m\u001b[34m(filepath_or_buffer, kwds)\u001b[39m\n\u001b[32m    617\u001b[39m _validate_names(kwds.get(\u001b[33m\"\u001b[39m\u001b[33mnames\u001b[39m\u001b[33m\"\u001b[39m, \u001b[38;5;28;01mNone\u001b[39;00m))\n\u001b[32m    619\u001b[39m \u001b[38;5;66;03m# Create the parser.\u001b[39;00m\n\u001b[32m--> \u001b[39m\u001b[32m620\u001b[39m parser = \u001b[43mTextFileReader\u001b[49m\u001b[43m(\u001b[49m\u001b[43mfilepath_or_buffer\u001b[49m\u001b[43m,\u001b[49m\u001b[43m \u001b[49m\u001b[43m*\u001b[49m\u001b[43m*\u001b[49m\u001b[43mkwds\u001b[49m\u001b[43m)\u001b[49m\n\u001b[32m    622\u001b[39m \u001b[38;5;28;01mif\u001b[39;00m chunksize \u001b[38;5;129;01mor\u001b[39;00m iterator:\n\u001b[32m    623\u001b[39m     \u001b[38;5;28;01mreturn\u001b[39;00m parser\n",
      "\u001b[36mFile \u001b[39m\u001b[32m~\\AppData\\Local\\Packages\\PythonSoftwareFoundation.Python.3.11_qbz5n2kfra8p0\\LocalCache\\local-packages\\Python311\\site-packages\\pandas\\io\\parsers\\readers.py:1620\u001b[39m, in \u001b[36mTextFileReader.__init__\u001b[39m\u001b[34m(self, f, engine, **kwds)\u001b[39m\n\u001b[32m   1617\u001b[39m     \u001b[38;5;28mself\u001b[39m.options[\u001b[33m\"\u001b[39m\u001b[33mhas_index_names\u001b[39m\u001b[33m\"\u001b[39m] = kwds[\u001b[33m\"\u001b[39m\u001b[33mhas_index_names\u001b[39m\u001b[33m\"\u001b[39m]\n\u001b[32m   1619\u001b[39m \u001b[38;5;28mself\u001b[39m.handles: IOHandles | \u001b[38;5;28;01mNone\u001b[39;00m = \u001b[38;5;28;01mNone\u001b[39;00m\n\u001b[32m-> \u001b[39m\u001b[32m1620\u001b[39m \u001b[38;5;28mself\u001b[39m._engine = \u001b[38;5;28;43mself\u001b[39;49m\u001b[43m.\u001b[49m\u001b[43m_make_engine\u001b[49m\u001b[43m(\u001b[49m\u001b[43mf\u001b[49m\u001b[43m,\u001b[49m\u001b[43m \u001b[49m\u001b[38;5;28;43mself\u001b[39;49m\u001b[43m.\u001b[49m\u001b[43mengine\u001b[49m\u001b[43m)\u001b[49m\n",
      "\u001b[36mFile \u001b[39m\u001b[32m~\\AppData\\Local\\Packages\\PythonSoftwareFoundation.Python.3.11_qbz5n2kfra8p0\\LocalCache\\local-packages\\Python311\\site-packages\\pandas\\io\\parsers\\readers.py:1880\u001b[39m, in \u001b[36mTextFileReader._make_engine\u001b[39m\u001b[34m(self, f, engine)\u001b[39m\n\u001b[32m   1878\u001b[39m     \u001b[38;5;28;01mif\u001b[39;00m \u001b[33m\"\u001b[39m\u001b[33mb\u001b[39m\u001b[33m\"\u001b[39m \u001b[38;5;129;01mnot\u001b[39;00m \u001b[38;5;129;01min\u001b[39;00m mode:\n\u001b[32m   1879\u001b[39m         mode += \u001b[33m\"\u001b[39m\u001b[33mb\u001b[39m\u001b[33m\"\u001b[39m\n\u001b[32m-> \u001b[39m\u001b[32m1880\u001b[39m \u001b[38;5;28mself\u001b[39m.handles = \u001b[43mget_handle\u001b[49m\u001b[43m(\u001b[49m\n\u001b[32m   1881\u001b[39m \u001b[43m    \u001b[49m\u001b[43mf\u001b[49m\u001b[43m,\u001b[49m\n\u001b[32m   1882\u001b[39m \u001b[43m    \u001b[49m\u001b[43mmode\u001b[49m\u001b[43m,\u001b[49m\n\u001b[32m   1883\u001b[39m \u001b[43m    \u001b[49m\u001b[43mencoding\u001b[49m\u001b[43m=\u001b[49m\u001b[38;5;28;43mself\u001b[39;49m\u001b[43m.\u001b[49m\u001b[43moptions\u001b[49m\u001b[43m.\u001b[49m\u001b[43mget\u001b[49m\u001b[43m(\u001b[49m\u001b[33;43m\"\u001b[39;49m\u001b[33;43mencoding\u001b[39;49m\u001b[33;43m\"\u001b[39;49m\u001b[43m,\u001b[49m\u001b[43m \u001b[49m\u001b[38;5;28;43;01mNone\u001b[39;49;00m\u001b[43m)\u001b[49m\u001b[43m,\u001b[49m\n\u001b[32m   1884\u001b[39m \u001b[43m    \u001b[49m\u001b[43mcompression\u001b[49m\u001b[43m=\u001b[49m\u001b[38;5;28;43mself\u001b[39;49m\u001b[43m.\u001b[49m\u001b[43moptions\u001b[49m\u001b[43m.\u001b[49m\u001b[43mget\u001b[49m\u001b[43m(\u001b[49m\u001b[33;43m\"\u001b[39;49m\u001b[33;43mcompression\u001b[39;49m\u001b[33;43m\"\u001b[39;49m\u001b[43m,\u001b[49m\u001b[43m \u001b[49m\u001b[38;5;28;43;01mNone\u001b[39;49;00m\u001b[43m)\u001b[49m\u001b[43m,\u001b[49m\n\u001b[32m   1885\u001b[39m \u001b[43m    \u001b[49m\u001b[43mmemory_map\u001b[49m\u001b[43m=\u001b[49m\u001b[38;5;28;43mself\u001b[39;49m\u001b[43m.\u001b[49m\u001b[43moptions\u001b[49m\u001b[43m.\u001b[49m\u001b[43mget\u001b[49m\u001b[43m(\u001b[49m\u001b[33;43m\"\u001b[39;49m\u001b[33;43mmemory_map\u001b[39;49m\u001b[33;43m\"\u001b[39;49m\u001b[43m,\u001b[49m\u001b[43m \u001b[49m\u001b[38;5;28;43;01mFalse\u001b[39;49;00m\u001b[43m)\u001b[49m\u001b[43m,\u001b[49m\n\u001b[32m   1886\u001b[39m \u001b[43m    \u001b[49m\u001b[43mis_text\u001b[49m\u001b[43m=\u001b[49m\u001b[43mis_text\u001b[49m\u001b[43m,\u001b[49m\n\u001b[32m   1887\u001b[39m \u001b[43m    \u001b[49m\u001b[43merrors\u001b[49m\u001b[43m=\u001b[49m\u001b[38;5;28;43mself\u001b[39;49m\u001b[43m.\u001b[49m\u001b[43moptions\u001b[49m\u001b[43m.\u001b[49m\u001b[43mget\u001b[49m\u001b[43m(\u001b[49m\u001b[33;43m\"\u001b[39;49m\u001b[33;43mencoding_errors\u001b[39;49m\u001b[33;43m\"\u001b[39;49m\u001b[43m,\u001b[49m\u001b[43m \u001b[49m\u001b[33;43m\"\u001b[39;49m\u001b[33;43mstrict\u001b[39;49m\u001b[33;43m\"\u001b[39;49m\u001b[43m)\u001b[49m\u001b[43m,\u001b[49m\n\u001b[32m   1888\u001b[39m \u001b[43m    \u001b[49m\u001b[43mstorage_options\u001b[49m\u001b[43m=\u001b[49m\u001b[38;5;28;43mself\u001b[39;49m\u001b[43m.\u001b[49m\u001b[43moptions\u001b[49m\u001b[43m.\u001b[49m\u001b[43mget\u001b[49m\u001b[43m(\u001b[49m\u001b[33;43m\"\u001b[39;49m\u001b[33;43mstorage_options\u001b[39;49m\u001b[33;43m\"\u001b[39;49m\u001b[43m,\u001b[49m\u001b[43m \u001b[49m\u001b[38;5;28;43;01mNone\u001b[39;49;00m\u001b[43m)\u001b[49m\u001b[43m,\u001b[49m\n\u001b[32m   1889\u001b[39m \u001b[43m\u001b[49m\u001b[43m)\u001b[49m\n\u001b[32m   1890\u001b[39m \u001b[38;5;28;01massert\u001b[39;00m \u001b[38;5;28mself\u001b[39m.handles \u001b[38;5;129;01mis\u001b[39;00m \u001b[38;5;129;01mnot\u001b[39;00m \u001b[38;5;28;01mNone\u001b[39;00m\n\u001b[32m   1891\u001b[39m f = \u001b[38;5;28mself\u001b[39m.handles.handle\n",
      "\u001b[36mFile \u001b[39m\u001b[32m~\\AppData\\Local\\Packages\\PythonSoftwareFoundation.Python.3.11_qbz5n2kfra8p0\\LocalCache\\local-packages\\Python311\\site-packages\\pandas\\io\\common.py:873\u001b[39m, in \u001b[36mget_handle\u001b[39m\u001b[34m(path_or_buf, mode, encoding, compression, memory_map, is_text, errors, storage_options)\u001b[39m\n\u001b[32m    868\u001b[39m \u001b[38;5;28;01melif\u001b[39;00m \u001b[38;5;28misinstance\u001b[39m(handle, \u001b[38;5;28mstr\u001b[39m):\n\u001b[32m    869\u001b[39m     \u001b[38;5;66;03m# Check whether the filename is to be opened in binary mode.\u001b[39;00m\n\u001b[32m    870\u001b[39m     \u001b[38;5;66;03m# Binary mode does not support 'encoding' and 'newline'.\u001b[39;00m\n\u001b[32m    871\u001b[39m     \u001b[38;5;28;01mif\u001b[39;00m ioargs.encoding \u001b[38;5;129;01mand\u001b[39;00m \u001b[33m\"\u001b[39m\u001b[33mb\u001b[39m\u001b[33m\"\u001b[39m \u001b[38;5;129;01mnot\u001b[39;00m \u001b[38;5;129;01min\u001b[39;00m ioargs.mode:\n\u001b[32m    872\u001b[39m         \u001b[38;5;66;03m# Encoding\u001b[39;00m\n\u001b[32m--> \u001b[39m\u001b[32m873\u001b[39m         handle = \u001b[38;5;28;43mopen\u001b[39;49m\u001b[43m(\u001b[49m\n\u001b[32m    874\u001b[39m \u001b[43m            \u001b[49m\u001b[43mhandle\u001b[49m\u001b[43m,\u001b[49m\n\u001b[32m    875\u001b[39m \u001b[43m            \u001b[49m\u001b[43mioargs\u001b[49m\u001b[43m.\u001b[49m\u001b[43mmode\u001b[49m\u001b[43m,\u001b[49m\n\u001b[32m    876\u001b[39m \u001b[43m            \u001b[49m\u001b[43mencoding\u001b[49m\u001b[43m=\u001b[49m\u001b[43mioargs\u001b[49m\u001b[43m.\u001b[49m\u001b[43mencoding\u001b[49m\u001b[43m,\u001b[49m\n\u001b[32m    877\u001b[39m \u001b[43m            \u001b[49m\u001b[43merrors\u001b[49m\u001b[43m=\u001b[49m\u001b[43merrors\u001b[49m\u001b[43m,\u001b[49m\n\u001b[32m    878\u001b[39m \u001b[43m            \u001b[49m\u001b[43mnewline\u001b[49m\u001b[43m=\u001b[49m\u001b[33;43m\"\u001b[39;49m\u001b[33;43m\"\u001b[39;49m\u001b[43m,\u001b[49m\n\u001b[32m    879\u001b[39m \u001b[43m        \u001b[49m\u001b[43m)\u001b[49m\n\u001b[32m    880\u001b[39m     \u001b[38;5;28;01melse\u001b[39;00m:\n\u001b[32m    881\u001b[39m         \u001b[38;5;66;03m# Binary mode\u001b[39;00m\n\u001b[32m    882\u001b[39m         handle = \u001b[38;5;28mopen\u001b[39m(handle, ioargs.mode)\n",
      "\u001b[31mFileNotFoundError\u001b[39m: [Errno 2] No such file or directory: 'dynamic_pricing'"
     ]
    }
   ],
   "source": [
    "import os\n",
    "import numpy as np\n",
    "import pandas as pd\n",
    "df=pd.read_csv(\"dynamic_pricing\")\n"
   ]
  },
  {
   "cell_type": "code",
   "execution_count": null,
   "id": "d305c144-1676-4603-b2f9-aedf2ed1082c",
   "metadata": {},
   "outputs": [],
   "source": [
    "df.info()"
   ]
  },
  {
   "cell_type": "code",
   "execution_count": 2,
   "id": "c7215da6-c198-487d-aa2a-e82e81cf966b",
   "metadata": {},
   "outputs": [],
   "source": [
    "df=pd.read_csv(\"dynamic_pricing.csv\")"
   ]
  },
  {
   "cell_type": "code",
   "execution_count": 3,
   "id": "629adbbc-67bd-45f6-8aaf-8625a1d6b523",
   "metadata": {},
   "outputs": [
    {
     "name": "stdout",
     "output_type": "stream",
     "text": [
      "<class 'pandas.core.frame.DataFrame'>\n",
      "RangeIndex: 1000 entries, 0 to 999\n",
      "Data columns (total 10 columns):\n",
      " #   Column                   Non-Null Count  Dtype  \n",
      "---  ------                   --------------  -----  \n",
      " 0   Number_of_Riders         1000 non-null   int64  \n",
      " 1   Number_of_Drivers        1000 non-null   int64  \n",
      " 2   Location_Category        1000 non-null   object \n",
      " 3   Customer_Loyalty_Status  1000 non-null   object \n",
      " 4   Number_of_Past_Rides     1000 non-null   int64  \n",
      " 5   Average_Ratings          1000 non-null   float64\n",
      " 6   Time_of_Booking          1000 non-null   object \n",
      " 7   Vehicle_Type             1000 non-null   object \n",
      " 8   Expected_Ride_Duration   1000 non-null   int64  \n",
      " 9   Historical_Cost_of_Ride  1000 non-null   float64\n",
      "dtypes: float64(2), int64(4), object(4)\n",
      "memory usage: 78.3+ KB\n"
     ]
    }
   ],
   "source": [
    "df.info()"
   ]
  },
  {
   "cell_type": "code",
   "execution_count": 4,
   "id": "e3ccd512-4b70-4d2e-b36d-d7d9bb858ac6",
   "metadata": {},
   "outputs": [
    {
     "name": "stdout",
     "output_type": "stream",
     "text": [
      "Shape: (1000, 10)\n"
     ]
    }
   ],
   "source": [
    "print(\"Shape:\", df.shape)"
   ]
  },
  {
   "cell_type": "code",
   "execution_count": 5,
   "id": "7c7078c4-7b82-4aef-8c98-9a30598d9448",
   "metadata": {},
   "outputs": [
    {
     "name": "stdout",
     "output_type": "stream",
     "text": [
      "       Number_of_Riders  Number_of_Drivers  Number_of_Past_Rides  \\\n",
      "count       1000.000000        1000.000000           1000.000000   \n",
      "mean          60.372000          27.076000             50.031000   \n",
      "std           23.701506          19.068346             29.313774   \n",
      "min           20.000000           5.000000              0.000000   \n",
      "25%           40.000000          11.000000             25.000000   \n",
      "50%           60.000000          22.000000             51.000000   \n",
      "75%           81.000000          38.000000             75.000000   \n",
      "max          100.000000          89.000000            100.000000   \n",
      "\n",
      "       Average_Ratings  Expected_Ride_Duration  Historical_Cost_of_Ride  \n",
      "count      1000.000000              1000.00000              1000.000000  \n",
      "mean          4.257220                99.58800               372.502623  \n",
      "std           0.435781                49.16545               187.158756  \n",
      "min           3.500000                10.00000                25.993449  \n",
      "25%           3.870000                59.75000               221.365202  \n",
      "50%           4.270000               102.00000               362.019426  \n",
      "75%           4.632500               143.00000               510.497504  \n",
      "max           5.000000               180.00000               836.116419  \n"
     ]
    }
   ],
   "source": [
    "print(df.describe())"
   ]
  },
  {
   "cell_type": "code",
   "execution_count": 6,
   "id": "c1a055b8-3fff-47c2-9f73-bdb41e0b50d6",
   "metadata": {},
   "outputs": [
    {
     "name": "stdout",
     "output_type": "stream",
     "text": [
      "       Location_Category Customer_Loyalty_Status Time_of_Booking Vehicle_Type\n",
      "count               1000                    1000            1000         1000\n",
      "unique                 3                       3               4            2\n",
      "top                Urban                  Silver           Night      Premium\n",
      "freq                 346                     367             276          522\n"
     ]
    }
   ],
   "source": [
    "print(df.describe(include=['object']))"
   ]
  },
  {
   "cell_type": "code",
   "execution_count": 7,
   "id": "2a99c60d-fd81-42c9-9ede-553ba6f439a3",
   "metadata": {},
   "outputs": [
    {
     "name": "stdout",
     "output_type": "stream",
     "text": [
      "Number_of_Riders           0\n",
      "Number_of_Drivers          0\n",
      "Location_Category          0\n",
      "Customer_Loyalty_Status    0\n",
      "Number_of_Past_Rides       0\n",
      "Average_Ratings            0\n",
      "Time_of_Booking            0\n",
      "Vehicle_Type               0\n",
      "Expected_Ride_Duration     0\n",
      "Historical_Cost_of_Ride    0\n",
      "dtype: int64\n"
     ]
    }
   ],
   "source": [
    "print(df.isna().sum())"
   ]
  },
  {
   "cell_type": "code",
   "execution_count": 8,
   "id": "e4240fd7-86c2-4b5c-acb4-00eb62fb42c3",
   "metadata": {},
   "outputs": [
    {
     "name": "stdout",
     "output_type": "stream",
     "text": [
      "0\n"
     ]
    }
   ],
   "source": [
    "print(df.duplicated().sum())"
   ]
  },
  {
   "cell_type": "code",
   "execution_count": 11,
   "id": "81f4bfd6-b4d4-4f8e-ac54-0f5e14773460",
   "metadata": {},
   "outputs": [
    {
     "name": "stdout",
     "output_type": "stream",
     "text": [
      "Categorical Columns: ['Location_Category', 'Customer_Loyalty_Status', 'Time_of_Booking', 'Vehicle_Type']\n"
     ]
    }
   ],
   "source": [
    "num_cols=df.select_dtypes(include=[np.number]).columns.tolist()\n",
    "cat_cols=df.select_dtypes(exclude=[np.number]).columns.tolist()\n",
    "print(\"Categorical Columns:\",cat_cols)"
   ]
  },
  {
   "cell_type": "code",
   "execution_count": 12,
   "id": "d39202fc-a9ce-4dab-86fd-ea957c9728f4",
   "metadata": {},
   "outputs": [
    {
     "name": "stdout",
     "output_type": "stream",
     "text": [
      "Numeric columns: ['Number_of_Riders', 'Number_of_Drivers', 'Number_of_Past_Rides', 'Average_Ratings', 'Expected_Ride_Duration', 'Historical_Cost_of_Ride']\n"
     ]
    }
   ],
   "source": [
    "print(\"Numeric columns:\",num_cols)"
   ]
  },
  {
   "cell_type": "code",
   "execution_count": 4,
   "id": "1a7fdf1e-1b80-4139-b9eb-12dd03e701ec",
   "metadata": {},
   "outputs": [
    {
     "name": "stdout",
     "output_type": "stream",
     "text": [
      "   Number_of_Riders  Number_of_Drivers Location_Category  \\\n",
      "0                90                 45             Urban   \n",
      "1                58                 39          Suburban   \n",
      "2                42                 31             Rural   \n",
      "3                89                 28             Rural   \n",
      "4                78                 22             Rural   \n",
      "\n",
      "  Customer_Loyalty_Status  Number_of_Past_Rides  Average_Ratings  \\\n",
      "0                  Silver                    13             4.47   \n",
      "1                  Silver                    72             4.06   \n",
      "2                  Silver                     0             3.99   \n",
      "3                 Regular                    67             4.31   \n",
      "4                 Regular                    74             3.77   \n",
      "\n",
      "  Time_of_Booking Vehicle_Type  Expected_Ride_Duration  \\\n",
      "0           Night      Premium                      90   \n",
      "1         Evening      Economy                      43   \n",
      "2       Afternoon      Premium                      76   \n",
      "3       Afternoon      Premium                     134   \n",
      "4       Afternoon      Economy                     149   \n",
      "\n",
      "   Historical_Cost_of_Ride  \n",
      "0               284.257273  \n",
      "1               173.874753  \n",
      "2               329.795469  \n",
      "3               470.201232  \n",
      "4               579.681422  \n"
     ]
    }
   ],
   "source": [
    "import pandas as pd  \n",
    "\n",
    "df = pd.read_csv(\"dynamic_pricing.csv\")  \n",
    "print(df.head())   # shows first 5 rows"
   ]
  },
  {
   "cell_type": "code",
   "execution_count": 5,
   "id": "72be3a25-da29-4a22-8b5f-0344c4b0fafe",
   "metadata": {},
   "outputs": [
    {
     "name": "stdout",
     "output_type": "stream",
     "text": [
      "Unique values per categorical column:\n",
      "- Location_Category (3): ['Rural', 'Suburban', 'Urban']\n",
      "- Customer_Loyalty_Status (3): ['Gold', 'Regular', 'Silver']\n",
      "- Time_of_Booking (4): ['Afternoon', 'Evening', 'Morning', 'Night']\n",
      "- Vehicle_Type (2): ['Economy', 'Premium']\n"
     ]
    }
   ],
   "source": [
    "cat_cols = df.select_dtypes(include=['object']).columns\n",
    "\n",
    "# Unique values and counts\n",
    "cat_uniques = {c: sorted(df[c].astype(str).unique().tolist()) for c in cat_cols}\n",
    "cat_counts = {c: int(df[c].nunique()) for c in cat_cols}\n",
    "\n",
    "print(\"Unique values per categorical column:\")\n",
    "for c in cat_cols:\n",
    "    print(f\"- {c} ({cat_counts[c]}): {cat_uniques[c]}\")"
   ]
  },
  {
   "cell_type": "code",
   "execution_count": 6,
   "id": "70812e67-6698-42b2-9317-27d411acb037",
   "metadata": {},
   "outputs": [
    {
     "name": "stdout",
     "output_type": "stream",
     "text": [
      "\n",
      "Potential formatting inconsistencies (case/whitespace) per categorical col:\n",
      "{'Location_Category': 1000, 'Customer_Loyalty_Status': 1000, 'Time_of_Booking': 1000, 'Vehicle_Type': 1000}\n"
     ]
    }
   ],
   "source": [
    "inconsistency_flags = {}\n",
    "for c in cat_cols:\n",
    "    raw = df[c].astype(str)\n",
    "    norm = raw.str.strip().str.lower()   # normalize (remove spaces + lowercase)\n",
    "    inconsistency_flags[c] = int((raw != norm).sum())\n",
    "\n",
    "print(\"\\nPotential formatting inconsistencies (case/whitespace) per categorical col:\")\n",
    "print(inconsistency_flags)"
   ]
  },
  {
   "cell_type": "code",
   "execution_count": 8,
   "id": "c488cb6d-5fba-4737-9ca6-f5fc43731871",
   "metadata": {},
   "outputs": [
    {
     "name": "stdout",
     "output_type": "stream",
     "text": [
      "\n",
      "Location_Category unique values:\n",
      " ['urban' 'suburban' 'rural']\n",
      "\n",
      "Customer_Loyalty_Status unique values:\n",
      " ['silver' 'regular' 'gold']\n",
      "\n",
      "Time_of_Booking unique values:\n",
      " ['night' 'evening' 'afternoon' 'morning']\n",
      "\n",
      "Vehicle_Type unique values:\n",
      " ['premium' 'economy']\n"
     ]
    }
   ],
   "source": [
    "cat_cols = [\"Location_Category\", \"Customer_Loyalty_Status\", \"Time_of_Booking\", \"Vehicle_Type\"]\n",
    "\n",
    "for col in cat_cols:\n",
    "    # Remove extra spaces + lowercase for uniformity\n",
    "    df[col] = df[col].str.strip().str.lower()\n",
    "    \n",
    "    # Replace multiple spaces with one\n",
    "    df[col] = df[col].str.replace(r'\\s+', ' ', regex=True)\n",
    "\n",
    "# ✅ Verify cleaned categories\n",
    "for col in cat_cols:\n",
    "    print(f\"\\n{col} unique values:\\n\", df[col].unique())\n"
   ]
  },
  {
   "cell_type": "code",
   "execution_count": 9,
   "id": "d59b1256-ad18-4dd4-959f-ae56ea849c4c",
   "metadata": {},
   "outputs": [
    {
     "name": "stdout",
     "output_type": "stream",
     "text": [
      "\n",
      "📊 Location_Category distribution:\n",
      "\n",
      "                   Count  Percentage\n",
      "Location_Category                   \n",
      "urban                346        34.6\n",
      "rural                332        33.2\n",
      "suburban             322        32.2\n",
      "\n",
      "📊 Customer_Loyalty_Status distribution:\n",
      "\n",
      "                         Count  Percentage\n",
      "Customer_Loyalty_Status                   \n",
      "silver                     367        36.7\n",
      "regular                    320        32.0\n",
      "gold                       313        31.3\n",
      "\n",
      "📊 Time_of_Booking distribution:\n",
      "\n",
      "                 Count  Percentage\n",
      "Time_of_Booking                   \n",
      "night              276        27.6\n",
      "afternoon          247        24.7\n",
      "morning            246        24.6\n",
      "evening            231        23.1\n",
      "\n",
      "📊 Vehicle_Type distribution:\n",
      "\n",
      "              Count  Percentage\n",
      "Vehicle_Type                   \n",
      "premium         522        52.2\n",
      "economy         478        47.8\n"
     ]
    }
   ],
   "source": [
    "def category_health_summary(df, cat_cols):\n",
    "    summary = {}\n",
    "    for col in cat_cols:\n",
    "        counts = df[col].value_counts()\n",
    "        percentages = df[col].value_counts(normalize=True) * 100\n",
    "        summary[col] = pd.DataFrame({\"Count\": counts, \"Percentage\": percentages.round(2)})\n",
    "    return summary\n",
    "\n",
    "# Categorical columns\n",
    "cat_cols = [\"Location_Category\", \"Customer_Loyalty_Status\", \"Time_of_Booking\", \"Vehicle_Type\"]\n",
    "\n",
    "# Run the summary\n",
    "summary = category_health_summary(df, cat_cols)\n",
    "\n",
    "# Display results\n",
    "for col, stats in summary.items():\n",
    "    print(f\"\\n📊 {col} distribution:\\n\")\n",
    "    print(stats)\n"
   ]
  },
  {
   "cell_type": "code",
   "execution_count": 10,
   "id": "bb4cc221-0636-4ea1-af57-73de24b88e55",
   "metadata": {},
   "outputs": [
    {
     "name": "stdout",
     "output_type": "stream",
     "text": [
      " IQR bounds per numeric column:\n",
      " {'Number_of_Riders': (np.float64(-21.5), np.float64(142.5)), 'Number_of_Drivers': (np.float64(-29.5), np.float64(78.5)), 'Number_of_Past_Rides': (np.float64(-50.0), np.float64(150.0)), 'Average_Ratings': (np.float64(2.73), np.float64(5.78)), 'Expected_Ride_Duration': (np.float64(-65.12), np.float64(267.88)), 'Historical_Cost_of_Ride': (np.float64(-212.33), np.float64(944.2))}\n",
      "\n",
      " IQR outlier counts:\n",
      " {'Number_of_Riders': 0, 'Number_of_Drivers': 10, 'Number_of_Past_Rides': 0, 'Average_Ratings': 0, 'Expected_Ride_Duration': 0, 'Historical_Cost_of_Ride': 0}\n",
      "\n",
      " Z-score outlier counts:\n",
      " {'Number_of_Riders': 0, 'Number_of_Drivers': 4, 'Number_of_Past_Rides': 0, 'Average_Ratings': 0, 'Expected_Ride_Duration': 0, 'Historical_Cost_of_Ride': 0}\n"
     ]
    }
   ],
   "source": [
    "import numpy as np\n",
    "\n",
    "# Select only numeric columns\n",
    "num_cols = df.select_dtypes(include=[np.number]).columns.tolist()\n",
    "\n",
    "# Dictionaries to store results\n",
    "iqr_bounds = {}\n",
    "iqr_outlier_counts = {}\n",
    "z_outlier_counts = {}\n",
    "\n",
    "# Outlier detection loop\n",
    "for c in num_cols:\n",
    "    # --- IQR Method ---\n",
    "    q1, q3 = df[c].quantile(0.25), df[c].quantile(0.75)\n",
    "    iqr = q3 - q1\n",
    "    lower, upper = q1 - 1.5 * iqr, q3 + 1.5 * iqr\n",
    "    \n",
    "    # Save IQR bounds\n",
    "    iqr_bounds[c] = (round(lower, 2), round(upper, 2))\n",
    "    \n",
    "    # Mask outliers\n",
    "    mask_iqr = (df[c] < lower) | (df[c] > upper)\n",
    "    iqr_outlier_counts[c] = int(mask_iqr.sum())\n",
    "    df[f\"is_outlier_IQR_{c}\"] = mask_iqr\n",
    "    \n",
    "    # --- Z-score Method ---\n",
    "    mean, std = df[c].mean(), df[c].std(ddof=0)\n",
    "    if std == 0:\n",
    "        z_outlier_counts[c] = 0\n",
    "        df[f\"is_outlier_Z_{c}\"] = False\n",
    "    else:\n",
    "        z = (df[c] - mean) / std\n",
    "        mask_z = z.abs() > 3\n",
    "        z_outlier_counts[c] = int(mask_z.sum())\n",
    "        df[f\"is_outlier_Z_{c}\"] = mask_z\n",
    "\n",
    "# Print results\n",
    "print(\" IQR bounds per numeric column:\\n\", iqr_bounds)\n",
    "print(\"\\n IQR outlier counts:\\n\", iqr_outlier_counts)\n",
    "print(\"\\n Z-score outlier counts:\\n\", z_outlier_counts)\n"
   ]
  },
  {
   "cell_type": "code",
   "execution_count": 13,
   "id": "4538e118-64a7-473b-aa14-dda5d346f1d4",
   "metadata": {},
   "outputs": [
    {
     "name": "stdout",
     "output_type": "stream",
     "text": [
      "\n",
      "📊 KPI Summary (Aggregated)\n",
      "Total Revenue (₹): 27,017,454.02\n",
      "Total Profit (₹): 4,502,909.00\n",
      "Revenue Lift (%): 9.09%\n",
      "Average Gross Margin (%): 16.67%\n",
      "Average Conversion Rate (%): 91.86%\n",
      "Average Cancellation Rate (%): 8.14%\n",
      "Price Change Rate (%): 100.00%\n"
     ]
    },
    {
     "data": {
      "text/html": [
       "<div>\n",
       "<style scoped>\n",
       "    .dataframe tbody tr th:only-of-type {\n",
       "        vertical-align: middle;\n",
       "    }\n",
       "\n",
       "    .dataframe tbody tr th {\n",
       "        vertical-align: top;\n",
       "    }\n",
       "\n",
       "    .dataframe thead th {\n",
       "        text-align: right;\n",
       "    }\n",
       "</style>\n",
       "<table border=\"1\" class=\"dataframe\">\n",
       "  <thead>\n",
       "    <tr style=\"text-align: right;\">\n",
       "      <th></th>\n",
       "      <th>Revenue</th>\n",
       "      <th>Profit</th>\n",
       "      <th>Revenue_Lift_%</th>\n",
       "      <th>Gross_Margin_%</th>\n",
       "      <th>Conversion_Rate_%</th>\n",
       "      <th>Cancellation_Rate_%</th>\n",
       "    </tr>\n",
       "  </thead>\n",
       "  <tbody>\n",
       "    <tr>\n",
       "      <th>0</th>\n",
       "      <td>30699.785486</td>\n",
       "      <td>5116.630914</td>\n",
       "      <td>9.090909</td>\n",
       "      <td>16.666667</td>\n",
       "      <td>92.783505</td>\n",
       "      <td>7.216495</td>\n",
       "    </tr>\n",
       "    <tr>\n",
       "      <th>1</th>\n",
       "      <td>12101.682791</td>\n",
       "      <td>2016.947132</td>\n",
       "      <td>9.090909</td>\n",
       "      <td>16.666667</td>\n",
       "      <td>87.878788</td>\n",
       "      <td>12.121212</td>\n",
       "    </tr>\n",
       "    <tr>\n",
       "      <th>2</th>\n",
       "      <td>16621.691636</td>\n",
       "      <td>2770.281939</td>\n",
       "      <td>9.090909</td>\n",
       "      <td>16.666667</td>\n",
       "      <td>89.361702</td>\n",
       "      <td>10.638298</td>\n",
       "    </tr>\n",
       "    <tr>\n",
       "      <th>3</th>\n",
       "      <td>50217.491551</td>\n",
       "      <td>8369.581925</td>\n",
       "      <td>9.090909</td>\n",
       "      <td>16.666667</td>\n",
       "      <td>90.816327</td>\n",
       "      <td>9.183673</td>\n",
       "    </tr>\n",
       "    <tr>\n",
       "      <th>4</th>\n",
       "      <td>54258.181133</td>\n",
       "      <td>9043.030189</td>\n",
       "      <td>9.090909</td>\n",
       "      <td>16.666667</td>\n",
       "      <td>93.975904</td>\n",
       "      <td>6.024096</td>\n",
       "    </tr>\n",
       "    <tr>\n",
       "      <th>5</th>\n",
       "      <td>24068.839531</td>\n",
       "      <td>4011.473255</td>\n",
       "      <td>9.090909</td>\n",
       "      <td>16.666667</td>\n",
       "      <td>95.161290</td>\n",
       "      <td>4.838710</td>\n",
       "    </tr>\n",
       "    <tr>\n",
       "      <th>6</th>\n",
       "      <td>11613.268006</td>\n",
       "      <td>1935.544668</td>\n",
       "      <td>9.090909</td>\n",
       "      <td>16.666667</td>\n",
       "      <td>94.897959</td>\n",
       "      <td>5.102041</td>\n",
       "    </tr>\n",
       "    <tr>\n",
       "      <th>7</th>\n",
       "      <td>17544.402649</td>\n",
       "      <td>2924.067108</td>\n",
       "      <td>9.090909</td>\n",
       "      <td>16.666667</td>\n",
       "      <td>88.571429</td>\n",
       "      <td>11.428571</td>\n",
       "    </tr>\n",
       "    <tr>\n",
       "      <th>8</th>\n",
       "      <td>47533.906657</td>\n",
       "      <td>7922.317776</td>\n",
       "      <td>9.090909</td>\n",
       "      <td>16.666667</td>\n",
       "      <td>90.804598</td>\n",
       "      <td>9.195402</td>\n",
       "    </tr>\n",
       "    <tr>\n",
       "      <th>9</th>\n",
       "      <td>20109.265574</td>\n",
       "      <td>3351.544262</td>\n",
       "      <td>9.090909</td>\n",
       "      <td>16.666667</td>\n",
       "      <td>89.361702</td>\n",
       "      <td>10.638298</td>\n",
       "    </tr>\n",
       "  </tbody>\n",
       "</table>\n",
       "</div>"
      ],
      "text/plain": [
       "        Revenue       Profit  Revenue_Lift_%  Gross_Margin_%  \\\n",
       "0  30699.785486  5116.630914        9.090909       16.666667   \n",
       "1  12101.682791  2016.947132        9.090909       16.666667   \n",
       "2  16621.691636  2770.281939        9.090909       16.666667   \n",
       "3  50217.491551  8369.581925        9.090909       16.666667   \n",
       "4  54258.181133  9043.030189        9.090909       16.666667   \n",
       "5  24068.839531  4011.473255        9.090909       16.666667   \n",
       "6  11613.268006  1935.544668        9.090909       16.666667   \n",
       "7  17544.402649  2924.067108        9.090909       16.666667   \n",
       "8  47533.906657  7922.317776        9.090909       16.666667   \n",
       "9  20109.265574  3351.544262        9.090909       16.666667   \n",
       "\n",
       "   Conversion_Rate_%  Cancellation_Rate_%  \n",
       "0          92.783505             7.216495  \n",
       "1          87.878788            12.121212  \n",
       "2          89.361702            10.638298  \n",
       "3          90.816327             9.183673  \n",
       "4          93.975904             6.024096  \n",
       "5          95.161290             4.838710  \n",
       "6          94.897959             5.102041  \n",
       "7          88.571429            11.428571  \n",
       "8          90.804598             9.195402  \n",
       "9          89.361702            10.638298  "
      ]
     },
     "execution_count": 13,
     "metadata": {},
     "output_type": "execute_result"
    }
   ],
   "source": [
    "# Price (Recommended dynamic price) - assume 20% markup on cost if not present\n",
    "if \"Price\" not in df.columns:\n",
    "    df[\"Price\"] = df[\"Historical_Cost_of_Ride\"] * 1.2\n",
    "\n",
    "# Baseline Price - assume 10% markup on cost\n",
    "df[\"Baseline_Price\"] = df[\"Historical_Cost_of_Ride\"] * 1.1\n",
    "\n",
    "# Completed Rides\n",
    "if \"Completed_Rides\" not in df.columns:\n",
    "    df[\"Completed_Rides\"] = df[\"Number_of_Riders\"]\n",
    "\n",
    "# Synthetic Cancelled Rides (5–15% of completed rides, random)\n",
    "if \"Cancelled_Rides\" not in df.columns:\n",
    "    np.random.seed(42)\n",
    "    df[\"Cancelled_Rides\"] = (df[\"Completed_Rides\"] *\n",
    "                             np.random.uniform(0.05, 0.15, len(df))).astype(int)\n",
    "\n",
    "# Booking Intents = Completed + Cancelled\n",
    "df[\"Booking_Intents\"] = df[\"Completed_Rides\"] + df[\"Cancelled_Rides\"]\n",
    "\n",
    "# Cost per ride\n",
    "df[\"Cost\"] = df[\"Historical_Cost_of_Ride\"]\n",
    "\n",
    "# ----------------------------\n",
    "# Step 2: KPI Calculations\n",
    "# ----------------------------\n",
    "\n",
    "# Revenue\n",
    "df[\"Revenue\"] = df[\"Price\"] * df[\"Completed_Rides\"]\n",
    "\n",
    "# Baseline Revenue\n",
    "df[\"Baseline_Revenue\"] = df[\"Baseline_Price\"] * df[\"Completed_Rides\"]\n",
    "\n",
    "# Profit\n",
    "df[\"Profit\"] = (df[\"Price\"] - df[\"Cost\"]) * df[\"Completed_Rides\"]\n",
    "\n",
    "# Revenue Lift (%)\n",
    "df[\"Revenue_Lift_%\"] = ((df[\"Revenue\"] - df[\"Baseline_Revenue\"]) /\n",
    "                        df[\"Baseline_Revenue\"]) * 100\n",
    "\n",
    "# Gross Margin (%)\n",
    "df[\"Gross_Margin_%\"] = (df[\"Revenue\"] - (df[\"Cost\"] * df[\"Completed_Rides\"])) / df[\"Revenue\"] * 100\n",
    "\n",
    "# Conversion Rate (%)\n",
    "df[\"Conversion_Rate_%\"] = (df[\"Completed_Rides\"] / df[\"Booking_Intents\"]) * 100\n",
    "\n",
    "# Cancellation Rate (%)\n",
    "df[\"Cancellation_Rate_%\"] = (df[\"Cancelled_Rides\"] / df[\"Booking_Intents\"]) * 100\n",
    "\n",
    "# Price Change Rate (%)\n",
    "price_changes = (df[\"Price\"].diff() != 0).sum()\n",
    "Price_Change_Rate = (price_changes / len(df)) * 100\n",
    "\n",
    "# ----------------------------\n",
    "# Step 3: Aggregate KPI Summary\n",
    "# ----------------------------\n",
    "print(\"\\n📊 KPI Summary (Aggregated)\")\n",
    "print(f\"Total Revenue (₹): {df['Revenue'].sum():,.2f}\")\n",
    "print(f\"Total Profit (₹): {df['Profit'].sum():,.2f}\")\n",
    "print(f\"Revenue Lift (%): {df['Revenue_Lift_%'].mean():.2f}%\")\n",
    "print(f\"Average Gross Margin (%): {df['Gross_Margin_%'].mean():.2f}%\")\n",
    "print(f\"Average Conversion Rate (%): {df['Conversion_Rate_%'].mean():.2f}%\")\n",
    "print(f\"Average Cancellation Rate (%): {df['Cancellation_Rate_%'].mean():.2f}%\")\n",
    "print(f\"Price Change Rate (%): {Price_Change_Rate:.2f}%\")\n",
    "\n",
    "# ----------------------------\n",
    "# Step 4: Ride-level KPI Dashboard\n",
    "# ----------------------------\n",
    "kpi_cols = [\n",
    "    \"Revenue\", \"Profit\", \"Revenue_Lift_%\", \"Gross_Margin_%\",\n",
    "    \"Conversion_Rate_%\", \"Cancellation_Rate_%\"\n",
    "]\n",
    "kpi_dashboard = df[kpi_cols]\n",
    "kpi_dashboard.head(10)  # preview"
   ]
  },
  {
   "cell_type": "code",
   "execution_count": null,
   "id": "9faa81f0-bae0-4eb0-b603-b9da7f60a7f7",
   "metadata": {},
   "outputs": [],
   "source": []
  }
 ],
 "metadata": {
  "kernelspec": {
   "display_name": "Python 3 (ipykernel)",
   "language": "python",
   "name": "python3"
  },
  "language_info": {
   "codemirror_mode": {
    "name": "ipython",
    "version": 3
   },
   "file_extension": ".py",
   "mimetype": "text/x-python",
   "name": "python",
   "nbconvert_exporter": "python",
   "pygments_lexer": "ipython3",
   "version": "3.11.9"
  }
 },
 "nbformat": 4,
 "nbformat_minor": 5
}
